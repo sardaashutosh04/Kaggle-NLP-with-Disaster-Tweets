{
 "cells": [
  {
   "cell_type": "markdown",
   "metadata": {},
   "source": [
    "# Kaggle - NLP with Disaster Tweets"
   ]
  },
  {
   "cell_type": "code",
   "execution_count": 315,
   "metadata": {},
   "outputs": [],
   "source": [
    "import pandas as pd\n",
    "import numpy as np\n",
    "import matplotlib.pyplot as plt\n",
    "import seaborn as sns\n",
    "%matplotlib inline\n",
    "\n",
    "import tensorflow as tf\n",
    "np.random.seed(0)\n",
    "from tensorflow.keras import Sequential\n",
    "from tensorflow.keras.callbacks import EarlyStopping\n",
    "from tensorflow.keras.models import Model\n",
    "from tensorflow.keras.layers import Dense, Input, Dropout, LSTM, Activation, Bidirectional\n",
    "from tensorflow.keras.layers import Embedding\n",
    "from tensorflow.keras.preprocessing import sequence\n",
    "from tensorflow.keras.initializers import glorot_uniform\n",
    "from tensorflow.keras import regularizers\n",
    "np.random.seed(1)\n",
    "from sklearn.model_selection import train_test_split"
   ]
  },
  {
   "cell_type": "code",
   "execution_count": 295,
   "metadata": {},
   "outputs": [],
   "source": [
    "train_df = pd.read_csv('train.csv')\n",
    "test_df = pd.read_csv('test.csv')"
   ]
  },
  {
   "cell_type": "code",
   "execution_count": 3,
   "metadata": {},
   "outputs": [
    {
     "name": "stdout",
     "output_type": "stream",
     "text": [
      "Training Set Shape: (7613, 5) \n",
      "Test Set Shape: (3263, 4)\n"
     ]
    }
   ],
   "source": [
    "print('Training Set Shape: {} \\nTest Set Shape: {}'.format(train_df.shape, test_df.shape))"
   ]
  },
  {
   "cell_type": "code",
   "execution_count": 4,
   "metadata": {},
   "outputs": [],
   "source": [
    "ntrain = 7613"
   ]
  },
  {
   "cell_type": "code",
   "execution_count": 5,
   "metadata": {},
   "outputs": [
    {
     "data": {
      "text/html": [
       "<div>\n",
       "<style scoped>\n",
       "    .dataframe tbody tr th:only-of-type {\n",
       "        vertical-align: middle;\n",
       "    }\n",
       "\n",
       "    .dataframe tbody tr th {\n",
       "        vertical-align: top;\n",
       "    }\n",
       "\n",
       "    .dataframe thead th {\n",
       "        text-align: right;\n",
       "    }\n",
       "</style>\n",
       "<table border=\"1\" class=\"dataframe\">\n",
       "  <thead>\n",
       "    <tr style=\"text-align: right;\">\n",
       "      <th></th>\n",
       "      <th>id</th>\n",
       "      <th>keyword</th>\n",
       "      <th>location</th>\n",
       "      <th>text</th>\n",
       "      <th>target</th>\n",
       "    </tr>\n",
       "  </thead>\n",
       "  <tbody>\n",
       "    <tr>\n",
       "      <th>0</th>\n",
       "      <td>1</td>\n",
       "      <td>NaN</td>\n",
       "      <td>NaN</td>\n",
       "      <td>Our Deeds are the Reason of this #earthquake M...</td>\n",
       "      <td>1</td>\n",
       "    </tr>\n",
       "    <tr>\n",
       "      <th>1</th>\n",
       "      <td>4</td>\n",
       "      <td>NaN</td>\n",
       "      <td>NaN</td>\n",
       "      <td>Forest fire near La Ronge Sask. Canada</td>\n",
       "      <td>1</td>\n",
       "    </tr>\n",
       "    <tr>\n",
       "      <th>2</th>\n",
       "      <td>5</td>\n",
       "      <td>NaN</td>\n",
       "      <td>NaN</td>\n",
       "      <td>All residents asked to 'shelter in place' are ...</td>\n",
       "      <td>1</td>\n",
       "    </tr>\n",
       "    <tr>\n",
       "      <th>3</th>\n",
       "      <td>6</td>\n",
       "      <td>NaN</td>\n",
       "      <td>NaN</td>\n",
       "      <td>13,000 people receive #wildfires evacuation or...</td>\n",
       "      <td>1</td>\n",
       "    </tr>\n",
       "    <tr>\n",
       "      <th>4</th>\n",
       "      <td>7</td>\n",
       "      <td>NaN</td>\n",
       "      <td>NaN</td>\n",
       "      <td>Just got sent this photo from Ruby #Alaska as ...</td>\n",
       "      <td>1</td>\n",
       "    </tr>\n",
       "    <tr>\n",
       "      <th>...</th>\n",
       "      <td>...</td>\n",
       "      <td>...</td>\n",
       "      <td>...</td>\n",
       "      <td>...</td>\n",
       "      <td>...</td>\n",
       "    </tr>\n",
       "    <tr>\n",
       "      <th>7608</th>\n",
       "      <td>10869</td>\n",
       "      <td>NaN</td>\n",
       "      <td>NaN</td>\n",
       "      <td>Two giant cranes holding a bridge collapse int...</td>\n",
       "      <td>1</td>\n",
       "    </tr>\n",
       "    <tr>\n",
       "      <th>7609</th>\n",
       "      <td>10870</td>\n",
       "      <td>NaN</td>\n",
       "      <td>NaN</td>\n",
       "      <td>@aria_ahrary @TheTawniest The out of control w...</td>\n",
       "      <td>1</td>\n",
       "    </tr>\n",
       "    <tr>\n",
       "      <th>7610</th>\n",
       "      <td>10871</td>\n",
       "      <td>NaN</td>\n",
       "      <td>NaN</td>\n",
       "      <td>M1.94 [01:04 UTC]?5km S of Volcano Hawaii. htt...</td>\n",
       "      <td>1</td>\n",
       "    </tr>\n",
       "    <tr>\n",
       "      <th>7611</th>\n",
       "      <td>10872</td>\n",
       "      <td>NaN</td>\n",
       "      <td>NaN</td>\n",
       "      <td>Police investigating after an e-bike collided ...</td>\n",
       "      <td>1</td>\n",
       "    </tr>\n",
       "    <tr>\n",
       "      <th>7612</th>\n",
       "      <td>10873</td>\n",
       "      <td>NaN</td>\n",
       "      <td>NaN</td>\n",
       "      <td>The Latest: More Homes Razed by Northern Calif...</td>\n",
       "      <td>1</td>\n",
       "    </tr>\n",
       "  </tbody>\n",
       "</table>\n",
       "<p>7613 rows × 5 columns</p>\n",
       "</div>"
      ],
      "text/plain": [
       "         id keyword location  \\\n",
       "0         1     NaN      NaN   \n",
       "1         4     NaN      NaN   \n",
       "2         5     NaN      NaN   \n",
       "3         6     NaN      NaN   \n",
       "4         7     NaN      NaN   \n",
       "...     ...     ...      ...   \n",
       "7608  10869     NaN      NaN   \n",
       "7609  10870     NaN      NaN   \n",
       "7610  10871     NaN      NaN   \n",
       "7611  10872     NaN      NaN   \n",
       "7612  10873     NaN      NaN   \n",
       "\n",
       "                                                   text  target  \n",
       "0     Our Deeds are the Reason of this #earthquake M...       1  \n",
       "1                Forest fire near La Ronge Sask. Canada       1  \n",
       "2     All residents asked to 'shelter in place' are ...       1  \n",
       "3     13,000 people receive #wildfires evacuation or...       1  \n",
       "4     Just got sent this photo from Ruby #Alaska as ...       1  \n",
       "...                                                 ...     ...  \n",
       "7608  Two giant cranes holding a bridge collapse int...       1  \n",
       "7609  @aria_ahrary @TheTawniest The out of control w...       1  \n",
       "7610  M1.94 [01:04 UTC]?5km S of Volcano Hawaii. htt...       1  \n",
       "7611  Police investigating after an e-bike collided ...       1  \n",
       "7612  The Latest: More Homes Razed by Northern Calif...       1  \n",
       "\n",
       "[7613 rows x 5 columns]"
      ]
     },
     "execution_count": 5,
     "metadata": {},
     "output_type": "execute_result"
    }
   ],
   "source": [
    "train_df"
   ]
  },
  {
   "cell_type": "code",
   "execution_count": 6,
   "metadata": {},
   "outputs": [
    {
     "data": {
      "text/html": [
       "<div>\n",
       "<style scoped>\n",
       "    .dataframe tbody tr th:only-of-type {\n",
       "        vertical-align: middle;\n",
       "    }\n",
       "\n",
       "    .dataframe tbody tr th {\n",
       "        vertical-align: top;\n",
       "    }\n",
       "\n",
       "    .dataframe thead th {\n",
       "        text-align: right;\n",
       "    }\n",
       "</style>\n",
       "<table border=\"1\" class=\"dataframe\">\n",
       "  <thead>\n",
       "    <tr style=\"text-align: right;\">\n",
       "      <th></th>\n",
       "      <th>id</th>\n",
       "      <th>keyword</th>\n",
       "      <th>location</th>\n",
       "      <th>text</th>\n",
       "    </tr>\n",
       "  </thead>\n",
       "  <tbody>\n",
       "    <tr>\n",
       "      <th>0</th>\n",
       "      <td>0</td>\n",
       "      <td>NaN</td>\n",
       "      <td>NaN</td>\n",
       "      <td>Just happened a terrible car crash</td>\n",
       "    </tr>\n",
       "    <tr>\n",
       "      <th>1</th>\n",
       "      <td>2</td>\n",
       "      <td>NaN</td>\n",
       "      <td>NaN</td>\n",
       "      <td>Heard about #earthquake is different cities, s...</td>\n",
       "    </tr>\n",
       "    <tr>\n",
       "      <th>2</th>\n",
       "      <td>3</td>\n",
       "      <td>NaN</td>\n",
       "      <td>NaN</td>\n",
       "      <td>there is a forest fire at spot pond, geese are...</td>\n",
       "    </tr>\n",
       "    <tr>\n",
       "      <th>3</th>\n",
       "      <td>9</td>\n",
       "      <td>NaN</td>\n",
       "      <td>NaN</td>\n",
       "      <td>Apocalypse lighting. #Spokane #wildfires</td>\n",
       "    </tr>\n",
       "    <tr>\n",
       "      <th>4</th>\n",
       "      <td>11</td>\n",
       "      <td>NaN</td>\n",
       "      <td>NaN</td>\n",
       "      <td>Typhoon Soudelor kills 28 in China and Taiwan</td>\n",
       "    </tr>\n",
       "    <tr>\n",
       "      <th>...</th>\n",
       "      <td>...</td>\n",
       "      <td>...</td>\n",
       "      <td>...</td>\n",
       "      <td>...</td>\n",
       "    </tr>\n",
       "    <tr>\n",
       "      <th>3258</th>\n",
       "      <td>10861</td>\n",
       "      <td>NaN</td>\n",
       "      <td>NaN</td>\n",
       "      <td>EARTHQUAKE SAFETY LOS ANGELES ÛÒ SAFETY FASTE...</td>\n",
       "    </tr>\n",
       "    <tr>\n",
       "      <th>3259</th>\n",
       "      <td>10865</td>\n",
       "      <td>NaN</td>\n",
       "      <td>NaN</td>\n",
       "      <td>Storm in RI worse than last hurricane. My city...</td>\n",
       "    </tr>\n",
       "    <tr>\n",
       "      <th>3260</th>\n",
       "      <td>10868</td>\n",
       "      <td>NaN</td>\n",
       "      <td>NaN</td>\n",
       "      <td>Green Line derailment in Chicago http://t.co/U...</td>\n",
       "    </tr>\n",
       "    <tr>\n",
       "      <th>3261</th>\n",
       "      <td>10874</td>\n",
       "      <td>NaN</td>\n",
       "      <td>NaN</td>\n",
       "      <td>MEG issues Hazardous Weather Outlook (HWO) htt...</td>\n",
       "    </tr>\n",
       "    <tr>\n",
       "      <th>3262</th>\n",
       "      <td>10875</td>\n",
       "      <td>NaN</td>\n",
       "      <td>NaN</td>\n",
       "      <td>#CityofCalgary has activated its Municipal Eme...</td>\n",
       "    </tr>\n",
       "  </tbody>\n",
       "</table>\n",
       "<p>3263 rows × 4 columns</p>\n",
       "</div>"
      ],
      "text/plain": [
       "         id keyword location  \\\n",
       "0         0     NaN      NaN   \n",
       "1         2     NaN      NaN   \n",
       "2         3     NaN      NaN   \n",
       "3         9     NaN      NaN   \n",
       "4        11     NaN      NaN   \n",
       "...     ...     ...      ...   \n",
       "3258  10861     NaN      NaN   \n",
       "3259  10865     NaN      NaN   \n",
       "3260  10868     NaN      NaN   \n",
       "3261  10874     NaN      NaN   \n",
       "3262  10875     NaN      NaN   \n",
       "\n",
       "                                                   text  \n",
       "0                    Just happened a terrible car crash  \n",
       "1     Heard about #earthquake is different cities, s...  \n",
       "2     there is a forest fire at spot pond, geese are...  \n",
       "3              Apocalypse lighting. #Spokane #wildfires  \n",
       "4         Typhoon Soudelor kills 28 in China and Taiwan  \n",
       "...                                                 ...  \n",
       "3258  EARTHQUAKE SAFETY LOS ANGELES ÛÒ SAFETY FASTE...  \n",
       "3259  Storm in RI worse than last hurricane. My city...  \n",
       "3260  Green Line derailment in Chicago http://t.co/U...  \n",
       "3261  MEG issues Hazardous Weather Outlook (HWO) htt...  \n",
       "3262  #CityofCalgary has activated its Municipal Eme...  \n",
       "\n",
       "[3263 rows x 4 columns]"
      ]
     },
     "execution_count": 6,
     "metadata": {},
     "output_type": "execute_result"
    }
   ],
   "source": [
    "test_df"
   ]
  },
  {
   "cell_type": "code",
   "execution_count": 263,
   "metadata": {},
   "outputs": [
    {
     "name": "stdout",
     "output_type": "stream",
     "text": [
      "<class 'pandas.core.frame.DataFrame'>\n",
      "RangeIndex: 7613 entries, 0 to 7612\n",
      "Data columns (total 5 columns):\n",
      " #   Column    Non-Null Count  Dtype \n",
      "---  ------    --------------  ----- \n",
      " 0   id        7613 non-null   int64 \n",
      " 1   keyword   7552 non-null   object\n",
      " 2   location  5080 non-null   object\n",
      " 3   text      7613 non-null   object\n",
      " 4   target    7613 non-null   int64 \n",
      "dtypes: int64(2), object(3)\n",
      "memory usage: 297.5+ KB\n"
     ]
    }
   ],
   "source": [
    "train_df.info()"
   ]
  },
  {
   "cell_type": "code",
   "execution_count": 264,
   "metadata": {},
   "outputs": [
    {
     "name": "stdout",
     "output_type": "stream",
     "text": [
      "<class 'pandas.core.frame.DataFrame'>\n",
      "RangeIndex: 3263 entries, 0 to 3262\n",
      "Data columns (total 4 columns):\n",
      " #   Column    Non-Null Count  Dtype \n",
      "---  ------    --------------  ----- \n",
      " 0   id        3263 non-null   int64 \n",
      " 1   keyword   3237 non-null   object\n",
      " 2   location  2158 non-null   object\n",
      " 3   text      3263 non-null   object\n",
      "dtypes: int64(1), object(3)\n",
      "memory usage: 102.1+ KB\n"
     ]
    }
   ],
   "source": [
    "test_df.info()"
   ]
  },
  {
   "cell_type": "code",
   "execution_count": 272,
   "metadata": {},
   "outputs": [],
   "source": [
    "'''train_df.keyword.replace('%20', ' ', inplace = True)\n",
    "test_df.keyword.replace('%20', ' ', inplace = True)\n",
    "train_df.fillna('', inplace=True)\n",
    "test_df.fillna('', inplace=True)\n",
    "\n",
    "train_df.text = train_df.text + train_df.keyword\n",
    "test_df.text = test_df.text + test_df.keyword'''"
   ]
  },
  {
   "cell_type": "code",
   "execution_count": 296,
   "metadata": {},
   "outputs": [],
   "source": [
    "X = np.array(train_df['text'])\n",
    "Y = np.array(train_df['target'])\n",
    "X_test = np.array(test_df['text'])"
   ]
  },
  {
   "cell_type": "code",
   "execution_count": 275,
   "metadata": {},
   "outputs": [],
   "source": [
    "import re\n",
    "import string\n",
    "\n",
    "\n",
    "def remove_urls(tweet):\n",
    "    return re.sub(r\"http(s?)://[\\S]+\", '', tweet)\n",
    "\n",
    "def remove_at_links(tweet):\n",
    "    return re.sub(r\"\\B(@)\\S+\", '', tweet)\n",
    "\n",
    "def remove_non_ascii_chars(tweet):\n",
    "    ascii_chars = set(string.printable)\n",
    "    for c in tweet:\n",
    "        if c not in ascii_chars:\n",
    "            tweet = tweet.replace(c,'')\n",
    "    return tweet\n",
    "\n",
    "def fix_ax_nots(tweet):\n",
    "    tweet = tweet.replace(\" dont \", \" do not \")\n",
    "    tweet = tweet.replace(\" don't \", \" do not \")\n",
    "    tweet = tweet.replace(\" doesnt \", \" does not \")\n",
    "    tweet = tweet.replace(\" doesn't \", \" does not \")\n",
    "    tweet = tweet.replace(\" wont \", \" will not \")\n",
    "    tweet = tweet.replace(\" won't \", \" will not \")\n",
    "    tweet = tweet.replace(\" cant \", \" cannot \")\n",
    "    tweet = tweet.replace(\" can't \", \" cannot \")\n",
    "    tweet = tweet.replace(\" couldnt \", \" could not \")\n",
    "    tweet = tweet.replace(\" couldn't \", \" could not \")\n",
    "    tweet = tweet.replace(\" shouldnt \", \" should not \")\n",
    "    tweet = tweet.replace(\" shouldn't \", \" should not \")\n",
    "    tweet = tweet.replace(\" wouldnt \", \" would not \")\n",
    "    tweet = tweet.replace(\" wouldn't \", \" would not \")\n",
    "    tweet = tweet.replace(\" mustnt \", \" must not \")\n",
    "    tweet = tweet.replace(\" mustn't \", \" must not \")\n",
    "    \n",
    "    return tweet\n",
    "\n",
    "def fix_personal_pronouns_and_verb(tweet):\n",
    "    tweet = tweet.replace(\" im \", \" i am \")\n",
    "    tweet = tweet.replace(\" youre \", \" you are\")\n",
    "    tweet = tweet.replace(\" hes \", \" he is\") # ? he's can be he has as well\n",
    "    tweet = tweet.replace(\" shes \", \" she is\")\n",
    "    # we are -> we're -> were  ---- were is a valid word\n",
    "    tweet = tweet.replace(\" theyre \", \" they are\")\n",
    "    \n",
    "    tweet = tweet.replace(\" ive \", \" i have \")\n",
    "    tweet = tweet.replace(\" youve \", \" you have \")\n",
    "    tweet = tweet.replace(\" weve \", \" we have \")\n",
    "    tweet = tweet.replace(\" theyve \", \" they have \")\n",
    "    \n",
    "    tweet = tweet.replace(\" youll \", \" you will \")\n",
    "    tweet = tweet.replace(\" theyll \", \" they will \")\n",
    "    \n",
    "    return tweet\n",
    "\n",
    "def fix_special_chars(tweet):\n",
    "    tweet = tweet.replace(\"&amp;\", \" and \")\n",
    "    # tweet = tweet.replace(\"--&gt;\", \"\")\n",
    "    return tweet\n",
    "        \n",
    "\n",
    "def clean_tweet(tweet):\n",
    "    tweet = remove_urls(tweet)\n",
    "    tweet = remove_at_links(tweet)\n",
    "    tweet = remove_non_ascii_chars(tweet)\n",
    "    tweet = fix_special_chars(tweet)\n",
    "    tweet = fix_ax_nots(tweet)\n",
    "    tweet = fix_personal_pronouns_and_verb(tweet)\n",
    "        \n",
    "    return tweet"
   ]
  },
  {
   "cell_type": "code",
   "execution_count": 297,
   "metadata": {},
   "outputs": [],
   "source": [
    "X = np.array([clean_tweet(tweet) for tweet in X])\n",
    "X_test = np.array([clean_tweet(tweet) for tweet in X_test])"
   ]
  },
  {
   "cell_type": "code",
   "execution_count": 298,
   "metadata": {},
   "outputs": [
    {
     "data": {
      "text/plain": [
       "32"
      ]
     },
     "execution_count": 298,
     "metadata": {},
     "output_type": "execute_result"
    }
   ],
   "source": [
    "maxLen_train = maxLen_test = 0\n",
    "for sentence in X_test:\n",
    "    Len = len(sentence.split())\n",
    "    maxLen_train = max(maxLen, Len)\n",
    "\n",
    "for sentence in X_test:\n",
    "    Len = len(sentence.split())\n",
    "    maxLen_test = max(maxLen, Len)\n",
    "    \n",
    "maxLen = max(maxLen_test, maxLen_train)\n",
    "maxLen"
   ]
  },
  {
   "cell_type": "code",
   "execution_count": 30,
   "metadata": {},
   "outputs": [],
   "source": [
    "def read_glove_vecs(glove_file):\n",
    "    with open(glove_file, 'r', encoding='utf8') as f:\n",
    "        words = set()\n",
    "        word_to_vec_map = {}\n",
    "        for line in f:\n",
    "            line = line.strip().split()\n",
    "            curr_word = line[0]\n",
    "            words.add(curr_word)\n",
    "            word_to_vec_map[curr_word] = np.array(line[1:], dtype=np.float64)\n",
    "        \n",
    "        i = 1\n",
    "        words_to_index = {}\n",
    "        index_to_words = {}\n",
    "        for w in sorted(words):\n",
    "            words_to_index[w] = i\n",
    "            index_to_words[i] = w\n",
    "            i = i + 1\n",
    "    return words_to_index, index_to_words, word_to_vec_map"
   ]
  },
  {
   "cell_type": "code",
   "execution_count": 31,
   "metadata": {},
   "outputs": [],
   "source": [
    "word_to_index, index_to_word, word_to_vec_map = read_glove_vecs('glove.6B.50d.txt')"
   ]
  },
  {
   "cell_type": "code",
   "execution_count": 43,
   "metadata": {},
   "outputs": [],
   "source": [
    "def sentences_to_indices(X, word_to_index, max_len):\n",
    "    \"\"\"\n",
    "    Converts an array of sentences (strings) into an array of indices corresponding to words in the sentences.\n",
    "    The output shape should be such that it can be given to `Embedding()`\n",
    "    \n",
    "    Arguments:\n",
    "    X -- array of sentences (strings), of shape (m, 1)\n",
    "    word_to_index -- a dictionary containing the each word mapped to its index\n",
    "    max_len -- maximum number of words in a sentence. You can assume every sentence in X is no longer than this. \n",
    "    \n",
    "    Returns:\n",
    "    X_indices -- array of indices corresponding to words in the sentences from X, of shape (m, max_len)\n",
    "    \"\"\"\n",
    "    \n",
    "    m = X.shape[0]                                   # number of training examples\n",
    "    \n",
    "    # Initialize X_indices as a numpy matrix of zeros and the correct shape (≈ 1 line)\n",
    "    X_indices = np.zeros((m, max_len))\n",
    "    \n",
    "    for i in range(m):                               # loop over training examples\n",
    "        \n",
    "        # Convert the ith training sentence in lower case and split is into words. You should get a list of words.\n",
    "        sentence_words = X[i].lower().split()\n",
    "        #print(len(sentence_words))\n",
    "        \n",
    "        # Initialize j to 0\n",
    "        j = 0\n",
    "        \n",
    "        # Loop over the words of sentence_words\n",
    "\n",
    "        for w in sentence_words:\n",
    "            # if w exists in the word_to_index dictionary\n",
    "            if w in word_to_index:\n",
    "                #print(j)\n",
    "                # Set the (i,j)th entry of X_indices to the index of the correct word.\n",
    "                X_indices[i, j] = word_to_index[w]\n",
    "                # Increment j to j + 1\n",
    "                j += 1\n",
    "            \n",
    "    \n",
    "    return X_indices"
   ]
  },
  {
   "cell_type": "code",
   "execution_count": 34,
   "metadata": {},
   "outputs": [],
   "source": [
    "def pretrained_embedding_layer(word_to_vec_map, word_to_index):\n",
    "    \"\"\"\n",
    "    Creates a Keras Embedding() layer and loads in pre-trained GloVe 50-dimensional vectors.\n",
    "    \n",
    "    Arguments:\n",
    "    word_to_vec_map -- dictionary mapping words to their GloVe vector representation.\n",
    "    word_to_index -- dictionary mapping from words to their indices in the vocabulary (400,001 words)\n",
    "\n",
    "    Returns:\n",
    "    embedding_layer -- pretrained layer Keras instance\n",
    "    \"\"\"\n",
    "    \n",
    "    vocab_size = len(word_to_index) + 1              # adding 1 to fit Keras embedding (requirement)\n",
    "    any_word = list(word_to_vec_map.keys())[0]\n",
    "    emb_dim = word_to_vec_map[any_word].shape[0]    # define dimensionality of your GloVe word vectors (= 50)\n",
    "    \n",
    "    # Step 1\n",
    "    # Initialize the embedding matrix as a numpy array of zeros.\n",
    "    # See instructions above to choose the correct shape.\n",
    "    emb_matrix = np.zeros((vocab_size, emb_dim))\n",
    "    \n",
    "    # Step 2\n",
    "    # Set each row \"idx\" of the embedding matrix to be \n",
    "    # the word vector representation of the idx'th word of the vocabulary\n",
    "    for word, idx in word_to_index.items():\n",
    "        emb_matrix[idx, :] = word_to_vec_map[word]\n",
    "\n",
    "    # Step 3\n",
    "    # Define Keras embedding layer with the correct input and output sizes\n",
    "    # Make it non-trainable.\n",
    "    embedding_layer = Embedding(input_dim = vocab_size, output_dim = emb_dim, trainable = False)\n",
    "\n",
    "    # Step 4 (already done for you; please do not modify)\n",
    "    # Build the embedding layer, it is required before setting the weights of the embedding layer. \n",
    "    embedding_layer.build((None,)) # Do not modify the \"None\".  This line of code is complete as-is.\n",
    "    \n",
    "    # Set the weights of the embedding layer to the embedding matrix. Your layer is now pretrained.\n",
    "    embedding_layer.set_weights([emb_matrix])\n",
    "    \n",
    "    return embedding_layer"
   ]
  },
  {
   "cell_type": "code",
   "execution_count": 301,
   "metadata": {},
   "outputs": [],
   "source": [
    "def disasterTweets(input_shape, word_to_vec_map, word_to_index):\n",
    "    \"\"\"\n",
    "    Function creating the Emojify-v2 model's graph.\n",
    "    \n",
    "    Arguments:\n",
    "    input_shape -- shape of the input, usually (max_len,)\n",
    "    word_to_vec_map -- dictionary mapping every word in a vocabulary into its 50-dimensional vector representation\n",
    "    word_to_index -- dictionary mapping from words to their indices in the vocabulary (400,001 words)\n",
    "\n",
    "    Returns:\n",
    "    model -- a model instance in Keras\n",
    "    \"\"\"\n",
    "    \n",
    "    # Define sentence_indices as the input of the graph.\n",
    "    # It should be of shape input_shape and dtype 'int32' (as it contains indices, which are integers).\n",
    "    sentence_indices = Input(shape=(input_shape), dtype='int32')\n",
    "    \n",
    "    # Create the embedding layer pretrained with GloVe Vectors (≈1 line)\n",
    "    embedding_layer = pretrained_embedding_layer(word_to_vec_map, word_to_index)\n",
    "    \n",
    "    # Propagate sentence_indices through your embedding layer\n",
    "    embeddings = embedding_layer(sentence_indices) \n",
    "    \n",
    "    # Propagate the embeddings through an LSTM layer with 128-dimensional hidden state\n",
    "    # The returned output should be a batch of sequences.\n",
    "    X = LSTM(units = 64, return_sequences = True, kernel_regularizer = regularizers.L2(0.01))(embeddings)\n",
    "    # Add dropout\n",
    "    X = Dropout(rate=0.5)(X) \n",
    "    # The returned output should be a batch of sequences.\n",
    "    X = Bidirectional(LSTM(units = 64, return_sequences=True, kernel_regularizer = regularizers.L2(0.01)))(X)\n",
    "    # Add dropout\n",
    "    X = Dropout(rate=0.5)(X)\n",
    "    # Propagate X trough another LSTM layer with 128-dimensional hidden state\n",
    "    # The returned output should be a single hidden state, not a batch of sequences.\n",
    "    X = LSTM(units = 128, return_sequences = False, kernel_regularizer = regularizers.L2(0.01))(X)\n",
    "    # Add dropout\n",
    "    X = Dropout(rate=0.5)(X)\n",
    "    # Propagate X through a Dense layer with 1 units\n",
    "    X = Dense(1)(X)\n",
    "    # Add a sigmoid activation\n",
    "    X = Activation('sigmoid')(X)\n",
    "    \n",
    "    # Create Model instance which converts sentence_indices into X.\n",
    "    model = Model(inputs = sentence_indices, outputs = X)\n",
    "    \n",
    "    \n",
    "    return model"
   ]
  },
  {
   "cell_type": "code",
   "execution_count": 302,
   "metadata": {},
   "outputs": [
    {
     "name": "stdout",
     "output_type": "stream",
     "text": [
      "Model: \"functional_37\"\n",
      "_________________________________________________________________\n",
      "Layer (type)                 Output Shape              Param #   \n",
      "=================================================================\n",
      "input_20 (InputLayer)        [(None, 32)]              0         \n",
      "_________________________________________________________________\n",
      "embedding_19 (Embedding)     (None, 32, 50)            20000050  \n",
      "_________________________________________________________________\n",
      "lstm_37 (LSTM)               (None, 32, 64)            29440     \n",
      "_________________________________________________________________\n",
      "dropout_30 (Dropout)         (None, 32, 64)            0         \n",
      "_________________________________________________________________\n",
      "bidirectional (Bidirectional (None, 32, 128)           66048     \n",
      "_________________________________________________________________\n",
      "dropout_31 (Dropout)         (None, 32, 128)           0         \n",
      "_________________________________________________________________\n",
      "lstm_39 (LSTM)               (None, 128)               131584    \n",
      "_________________________________________________________________\n",
      "dropout_32 (Dropout)         (None, 128)               0         \n",
      "_________________________________________________________________\n",
      "dense_18 (Dense)             (None, 1)                 129       \n",
      "_________________________________________________________________\n",
      "activation_18 (Activation)   (None, 1)                 0         \n",
      "=================================================================\n",
      "Total params: 20,227,251\n",
      "Trainable params: 227,201\n",
      "Non-trainable params: 20,000,050\n",
      "_________________________________________________________________\n"
     ]
    }
   ],
   "source": [
    "model = disasterTweets((maxLen,), word_to_vec_map, word_to_index)\n",
    "model.summary()"
   ]
  },
  {
   "cell_type": "code",
   "execution_count": 303,
   "metadata": {},
   "outputs": [],
   "source": [
    "model.compile(loss='binary_crossentropy', optimizer='adam', metrics=['accuracy'])"
   ]
  },
  {
   "cell_type": "code",
   "execution_count": 304,
   "metadata": {},
   "outputs": [],
   "source": [
    "#X_train, X_val, Y_train, Y_val = train_test_split(X, Y, test_size = 0.10, random_state=16)"
   ]
  },
  {
   "cell_type": "code",
   "execution_count": 305,
   "metadata": {},
   "outputs": [
    {
     "name": "stdout",
     "output_type": "stream",
     "text": [
      "(7613,) (7613,)\n"
     ]
    }
   ],
   "source": [
    "#print(X_train.shape, Y_train.shape, X_val.shape, Y_val.shape)\n",
    "print(X.shape, Y.shape)"
   ]
  },
  {
   "cell_type": "code",
   "execution_count": 306,
   "metadata": {},
   "outputs": [],
   "source": [
    "#X_train_indices = sentences_to_indices(X_train, word_to_index, maxLen)\n",
    "X_indices = sentences_to_indices(X, word_to_index, maxLen)"
   ]
  },
  {
   "cell_type": "code",
   "execution_count": 321,
   "metadata": {
    "scrolled": true
   },
   "outputs": [
    {
     "name": "stdout",
     "output_type": "stream",
     "text": [
      "Epoch 1/30\n",
      "57/57 [==============================] - 9s 166ms/step - loss: 0.4272 - accuracy: 0.8269 - val_loss: 0.5030 - val_accuracy: 0.7743\n",
      "Epoch 2/30\n",
      "57/57 [==============================] - 10s 167ms/step - loss: 0.4270 - accuracy: 0.8269 - val_loss: 0.4995 - val_accuracy: 0.7953\n",
      "Epoch 3/30\n",
      "57/57 [==============================] - 9s 166ms/step - loss: 0.4267 - accuracy: 0.8265 - val_loss: 0.5100 - val_accuracy: 0.7717\n",
      "Epoch 4/30\n",
      "57/57 [==============================] - 10s 170ms/step - loss: 0.4319 - accuracy: 0.8223 - val_loss: 0.5258 - val_accuracy: 0.7769\n",
      "Epoch 5/30\n",
      "57/57 [==============================] - 10s 168ms/step - loss: 0.4269 - accuracy: 0.8310 - val_loss: 0.5355 - val_accuracy: 0.7717\n",
      "Epoch 6/30\n",
      "57/57 [==============================] - 10s 176ms/step - loss: 0.4265 - accuracy: 0.8247 - val_loss: 0.5226 - val_accuracy: 0.7848\n",
      "Epoch 7/30\n",
      "57/57 [==============================] - 10s 175ms/step - loss: 0.4286 - accuracy: 0.8284 - val_loss: 0.5397 - val_accuracy: 0.7717\n",
      "Epoch 8/30\n",
      "57/57 [==============================] - 11s 188ms/step - loss: 0.4272 - accuracy: 0.8312 - val_loss: 0.5683 - val_accuracy: 0.7717\n",
      "Epoch 9/30\n",
      "57/57 [==============================] - 13s 229ms/step - loss: 0.4249 - accuracy: 0.8294 - val_loss: 0.5388 - val_accuracy: 0.7743\n",
      "Epoch 10/30\n",
      "57/57 [==============================] - 11s 193ms/step - loss: 0.4188 - accuracy: 0.8303 - val_loss: 0.5307 - val_accuracy: 0.7717\n",
      "Epoch 11/30\n",
      "57/57 [==============================] - 10s 184ms/step - loss: 0.4264 - accuracy: 0.8316 - val_loss: 0.5099 - val_accuracy: 0.7795\n",
      "Epoch 12/30\n",
      "57/57 [==============================] - 11s 190ms/step - loss: 0.4167 - accuracy: 0.8361 - val_loss: 0.5616 - val_accuracy: 0.7638\n",
      "Epoch 13/30\n",
      "57/57 [==============================] - 11s 186ms/step - loss: 0.4177 - accuracy: 0.8319 - val_loss: 0.5600 - val_accuracy: 0.7638\n",
      "Epoch 14/30\n",
      "57/57 [==============================] - 11s 187ms/step - loss: 0.4159 - accuracy: 0.8348 - val_loss: 0.5633 - val_accuracy: 0.7690\n",
      "Epoch 15/30\n",
      "57/57 [==============================] - 11s 190ms/step - loss: 0.4265 - accuracy: 0.8263 - val_loss: 0.5803 - val_accuracy: 0.7638\n",
      "Epoch 16/30\n",
      "57/57 [==============================] - 11s 191ms/step - loss: 0.4139 - accuracy: 0.8367 - val_loss: 0.5431 - val_accuracy: 0.7900\n",
      "Epoch 17/30\n",
      "57/57 [==============================] - 11s 190ms/step - loss: 0.4127 - accuracy: 0.8367 - val_loss: 0.5412 - val_accuracy: 0.7795\n",
      "Epoch 18/30\n",
      "57/57 [==============================] - 11s 194ms/step - loss: 0.4133 - accuracy: 0.8384 - val_loss: 0.5289 - val_accuracy: 0.7717\n",
      "Epoch 19/30\n",
      "57/57 [==============================] - 11s 193ms/step - loss: 0.4089 - accuracy: 0.8393 - val_loss: 0.5484 - val_accuracy: 0.7743\n",
      "Epoch 20/30\n",
      "57/57 [==============================] - 11s 194ms/step - loss: 0.4033 - accuracy: 0.8421 - val_loss: 0.5436 - val_accuracy: 0.7769\n",
      "Epoch 21/30\n",
      "57/57 [==============================] - 12s 202ms/step - loss: 0.4232 - accuracy: 0.8323 - val_loss: 0.5762 - val_accuracy: 0.7743\n",
      "Epoch 22/30\n",
      "57/57 [==============================] - 11s 198ms/step - loss: 0.4149 - accuracy: 0.8399 - val_loss: 0.5315 - val_accuracy: 0.7874\n",
      "Epoch 23/30\n",
      "57/57 [==============================] - 12s 217ms/step - loss: 0.4034 - accuracy: 0.8432 - val_loss: 0.5538 - val_accuracy: 0.7743\n",
      "Epoch 24/30\n",
      "57/57 [==============================] - 13s 222ms/step - loss: 0.4089 - accuracy: 0.8368 - val_loss: 0.5927 - val_accuracy: 0.7638\n",
      "Epoch 25/30\n",
      "57/57 [==============================] - 12s 217ms/step - loss: 0.4074 - accuracy: 0.8396 - val_loss: 0.5764 - val_accuracy: 0.7585\n",
      "Epoch 26/30\n",
      "57/57 [==============================] - 13s 234ms/step - loss: 0.4057 - accuracy: 0.8411 - val_loss: 0.5830 - val_accuracy: 0.7690\n",
      "Epoch 27/30\n",
      "57/57 [==============================] - 11s 196ms/step - loss: 0.4027 - accuracy: 0.8454 - val_loss: 0.5672 - val_accuracy: 0.7717\n",
      "Epoch 28/30\n",
      "57/57 [==============================] - 11s 200ms/step - loss: 0.4021 - accuracy: 0.8469 - val_loss: 0.5583 - val_accuracy: 0.7822\n",
      "Epoch 29/30\n",
      "57/57 [==============================] - 11s 200ms/step - loss: 0.4003 - accuracy: 0.8440 - val_loss: 0.5672 - val_accuracy: 0.7664\n",
      "Epoch 30/30\n",
      "57/57 [==============================] - 11s 200ms/step - loss: 0.4005 - accuracy: 0.8478 - val_loss: 0.5890 - val_accuracy: 0.7927\n"
     ]
    }
   ],
   "source": [
    "callback = EarlyStopping(monitor='accuracy', patience=50)\n",
    "history1 = model.fit(X_indices, Y, epochs = 30, shuffle=True, validation_split = 0.05, batch_size = 128, callbacks=[callback])"
   ]
  },
  {
   "cell_type": "code",
   "execution_count": 322,
   "metadata": {},
   "outputs": [],
   "source": [
    "model2 = Sequential()\n",
    "model2.add(Bidirectional(LSTM(10, return_sequences=True), input_shape=(5, 10)))\n",
    "model2.add(Bidirectional(LSTM(10)))\n",
    "model2.add(Dense(1))\n",
    "model2.add(Activation('sigmoid'))\n",
    "\n",
    "model2.compile(loss='binary_crossentropy', optimizer='rmsprop', metrics=['accuracy'])"
   ]
  },
  {
   "cell_type": "code",
   "execution_count": 323,
   "metadata": {
    "scrolled": true
   },
   "outputs": [
    {
     "name": "stdout",
     "output_type": "stream",
     "text": [
      "Epoch 1/30\n",
      "57/57 [==============================] - 12s 204ms/step - loss: 0.4039 - accuracy: 0.8438 - val_loss: 0.5716 - val_accuracy: 0.7822\n",
      "Epoch 2/30\n",
      "57/57 [==============================] - 12s 207ms/step - loss: 0.3932 - accuracy: 0.8523 - val_loss: 0.5880 - val_accuracy: 0.7638\n",
      "Epoch 3/30\n",
      "57/57 [==============================] - 15s 257ms/step - loss: 0.3975 - accuracy: 0.8469 - val_loss: 0.6065 - val_accuracy: 0.7664\n",
      "Epoch 4/30\n",
      "57/57 [==============================] - 13s 223ms/step - loss: 0.3930 - accuracy: 0.8485 - val_loss: 0.5976 - val_accuracy: 0.7717\n",
      "Epoch 5/30\n",
      "57/57 [==============================] - 12s 218ms/step - loss: 0.3876 - accuracy: 0.8538 - val_loss: 0.5880 - val_accuracy: 0.7690\n",
      "Epoch 6/30\n",
      "57/57 [==============================] - 12s 217ms/step - loss: 0.3963 - accuracy: 0.8527 - val_loss: 0.5814 - val_accuracy: 0.7769\n",
      "Epoch 7/30\n",
      "57/57 [==============================] - 13s 221ms/step - loss: 0.3918 - accuracy: 0.8545 - val_loss: 0.6076 - val_accuracy: 0.7664\n",
      "Epoch 8/30\n",
      "57/57 [==============================] - 12s 214ms/step - loss: 0.3878 - accuracy: 0.8536 - val_loss: 0.5536 - val_accuracy: 0.7822\n",
      "Epoch 9/30\n",
      "57/57 [==============================] - 12s 214ms/step - loss: 0.4077 - accuracy: 0.8515 - val_loss: 0.5562 - val_accuracy: 0.7743\n",
      "Epoch 10/30\n",
      "57/57 [==============================] - 13s 223ms/step - loss: 0.3975 - accuracy: 0.8514 - val_loss: 0.5851 - val_accuracy: 0.7690\n",
      "Epoch 11/30\n",
      "57/57 [==============================] - 12s 218ms/step - loss: 0.3865 - accuracy: 0.8567 - val_loss: 0.5936 - val_accuracy: 0.7507\n",
      "Epoch 12/30\n",
      "57/57 [==============================] - 12s 218ms/step - loss: 0.3846 - accuracy: 0.8565 - val_loss: 0.5658 - val_accuracy: 0.7769\n",
      "Epoch 13/30\n",
      "57/57 [==============================] - 12s 219ms/step - loss: 0.3760 - accuracy: 0.8634 - val_loss: 0.5843 - val_accuracy: 0.7795\n",
      "Epoch 14/30\n",
      "57/57 [==============================] - 13s 225ms/step - loss: 0.3806 - accuracy: 0.8583 - val_loss: 0.5785 - val_accuracy: 0.7690\n",
      "Epoch 15/30\n",
      "57/57 [==============================] - 13s 232ms/step - loss: 0.3883 - accuracy: 0.8581 - val_loss: 0.5931 - val_accuracy: 0.7690\n",
      "Epoch 16/30\n",
      "57/57 [==============================] - 13s 232ms/step - loss: 0.3820 - accuracy: 0.8634 - val_loss: 0.5841 - val_accuracy: 0.7664\n",
      "Epoch 17/30\n",
      "57/57 [==============================] - 13s 232ms/step - loss: 0.3748 - accuracy: 0.8648 - val_loss: 0.6167 - val_accuracy: 0.7900\n",
      "Epoch 18/30\n",
      "57/57 [==============================] - 13s 233ms/step - loss: 0.3633 - accuracy: 0.8709 - val_loss: 0.6820 - val_accuracy: 0.7454\n",
      "Epoch 19/30\n",
      "57/57 [==============================] - 13s 226ms/step - loss: 0.3687 - accuracy: 0.8678 - val_loss: 0.6231 - val_accuracy: 0.7585\n",
      "Epoch 20/30\n",
      "57/57 [==============================] - 13s 225ms/step - loss: 0.3606 - accuracy: 0.8717 - val_loss: 0.6239 - val_accuracy: 0.7533\n",
      "Epoch 21/30\n",
      "57/57 [==============================] - 13s 226ms/step - loss: 0.3696 - accuracy: 0.8671 - val_loss: 0.6561 - val_accuracy: 0.7454\n",
      "Epoch 22/30\n",
      "57/57 [==============================] - 13s 228ms/step - loss: 0.3729 - accuracy: 0.8657 - val_loss: 0.6185 - val_accuracy: 0.7533\n",
      "Epoch 23/30\n",
      "57/57 [==============================] - 13s 236ms/step - loss: 0.3711 - accuracy: 0.8664 - val_loss: 0.6068 - val_accuracy: 0.7664\n",
      "Epoch 24/30\n",
      "57/57 [==============================] - 14s 242ms/step - loss: 0.3739 - accuracy: 0.8668 - val_loss: 0.6111 - val_accuracy: 0.7743\n",
      "Epoch 25/30\n",
      "57/57 [==============================] - 13s 228ms/step - loss: 0.3557 - accuracy: 0.8743 - val_loss: 0.5956 - val_accuracy: 0.7795\n",
      "Epoch 26/30\n",
      "57/57 [==============================] - 13s 228ms/step - loss: 0.3627 - accuracy: 0.8675 - val_loss: 0.6942 - val_accuracy: 0.6772\n",
      "Epoch 27/30\n",
      "57/57 [==============================] - 14s 238ms/step - loss: 0.3858 - accuracy: 0.8620 - val_loss: 0.6136 - val_accuracy: 0.7795\n",
      "Epoch 28/30\n",
      "57/57 [==============================] - 13s 234ms/step - loss: 0.3525 - accuracy: 0.8798 - val_loss: 0.6123 - val_accuracy: 0.7717\n",
      "Epoch 29/30\n",
      "57/57 [==============================] - 13s 233ms/step - loss: 0.3576 - accuracy: 0.8797 - val_loss: 0.6780 - val_accuracy: 0.7795\n",
      "Epoch 30/30\n",
      "57/57 [==============================] - 13s 235ms/step - loss: 0.3502 - accuracy: 0.8782 - val_loss: 0.6186 - val_accuracy: 0.7585\n"
     ]
    }
   ],
   "source": [
    "callback = EarlyStopping(monitor='accuracy', patience=50)\n",
    "history2 = model.fit(X_indices, Y, epochs = 30, shuffle=True, validation_split = 0.05, batch_size = 128, callbacks=[callback])"
   ]
  },
  {
   "cell_type": "code",
   "execution_count": 324,
   "metadata": {},
   "outputs": [
    {
     "name": "stdout",
     "output_type": "stream",
     "text": [
      "Model 1:\n",
      "Training Accuracy:0.8477599620819092 \n",
      "Validation Accuracy:0.7926509380340576\n",
      "\n",
      "Model 2:\n",
      "Training Accuracy:0.8781803250312805 \n",
      "Validation Accuracy:0.7585301995277405\n"
     ]
    },
    {
     "data": {
      "image/png": "[encoded data removed]",
      "text/plain": [
       "<Figure size 1728x720 with 2 Axes>"
      ]
     },
     "metadata": {
      "needs_background": "light"
     },
     "output_type": "display_data"
    }
   ],
   "source": [
    "'''plt.figure(figsize=(16, 10))\n",
    "plt.plot(history.history['loss'],color='#EFAEA4',label = 'Training Loss')\n",
    "plt.plot(history.history['accuracy'],color='#B2D7D0',label = 'Training Accuracy')\n",
    "plt.legend()\n",
    "plt.xlabel('Epochs')\n",
    "plt.ylabel('Loss/Accuracy %')\n",
    "plt.title('MLP Training', fontsize = 24);\n",
    "print('Training Accuracy:{}'.format(history.history['accuracy'][-1]))'''\n",
    "fig, ax = plt.subplots(1,2,figsize = (24,10))\n",
    "ax[0].plot(history1.history['loss'],color='#EFAEA4',label = 'Model 1 Training Loss')\n",
    "ax[0].plot(history1.history['val_loss'],color='#B2D7D0',label = 'Model 1 Validation Loss')\n",
    "ax[1].plot(history1.history['accuracy'],color='#EFAEA4',label = 'Model 1 Training Accuracy')\n",
    "ax[1].plot(history1.history['val_accuracy'],color='#B2D7D0',label = 'Model 1 Validation Accuracy')\n",
    "\n",
    "ax[0].plot(history2.history['loss'],color='#E73C35',label = 'Model 2 Training Loss')\n",
    "ax[0].plot(history2.history['val_loss'],color='#296D98',label = 'Model 2 Validation Loss')\n",
    "ax[1].plot(history2.history['accuracy'],color='#E73C35',label = 'Model 2 Training Accuracy')\n",
    "ax[1].plot(history2.history['val_accuracy'],color='#296D98',label = 'Model 2 Validation Accuracy')\n",
    "\n",
    "ax[0].legend()\n",
    "ax[1].legend()\n",
    "ax[0].set_xlabel('Epochs')\n",
    "ax[1].set_xlabel('Epochs');\n",
    "ax[0].set_ylabel('Loss')\n",
    "ax[1].set_ylabel('Accuracy %');\n",
    "fig.suptitle('MLP Training', fontsize = 24)\n",
    "\n",
    "print('Model 1:')\n",
    "print('Training Accuracy:{} \\nValidation Accuracy:{}'.format(history1.history['accuracy'][-1], history1.history['val_accuracy'][-1]))\n",
    "print('\\nModel 2:')\n",
    "print('Training Accuracy:{} \\nValidation Accuracy:{}'.format(history2.history['accuracy'][-1], history2.history['val_accuracy'][-1]))"
   ]
  },
  {
   "cell_type": "code",
   "execution_count": 231,
   "metadata": {},
   "outputs": [
    {
     "name": "stdout",
     "output_type": "stream",
     "text": [
      "24/24 [==============================] - 0s 12ms/step - loss: 0.4564 - accuracy: 0.8189\n",
      "\n",
      "Validation Set accuracy =  0.8188976645469666\n"
     ]
    }
   ],
   "source": [
    "'''_, X_val, _, Y_val = train_test_split(X, Y, test_size = 0.10, random_state=32)\n",
    "X_val_indices = sentences_to_indices(X_val, word_to_index, max_len = maxLen)\n",
    "loss, acc = model.evaluate(X_val_indices, Y_val)\n",
    "print()\n",
    "print(\"Validation Set accuracy = \", acc)'''"
   ]
  },
  {
   "cell_type": "code",
   "execution_count": 325,
   "metadata": {},
   "outputs": [],
   "source": [
    "X_test_indices = sentences_to_indices(X_test, word_to_index, max_len = maxLen)\n",
    "pred = model.predict(X_test_indices)"
   ]
  },
  {
   "cell_type": "code",
   "execution_count": 326,
   "metadata": {},
   "outputs": [],
   "source": [
    "submission1 = pd.read_csv('sample_submission.csv')"
   ]
  },
  {
   "cell_type": "code",
   "execution_count": 327,
   "metadata": {},
   "outputs": [],
   "source": [
    "submission1.target = pred"
   ]
  },
  {
   "cell_type": "code",
   "execution_count": 328,
   "metadata": {},
   "outputs": [],
   "source": [
    "submission1.target = submission1.target.apply(lambda x: round(x))"
   ]
  },
  {
   "cell_type": "code",
   "execution_count": 329,
   "metadata": {},
   "outputs": [],
   "source": [
    "submission1.to_csv('submission5.csv', index=False)"
   ]
  },
  {
   "cell_type": "code",
   "execution_count": null,
   "metadata": {},
   "outputs": [],
   "source": []
  }
 ],
 "metadata": {
  "kernelspec": {
   "display_name": "Python 3",
   "language": "python",
   "name": "python3"
  },
  "language_info": {
   "codemirror_mode": {
    "name": "ipython",
    "version": 3
   },
   "file_extension": ".py",
   "mimetype": "text/x-python",
   "name": "python",
   "nbconvert_exporter": "python",
   "pygments_lexer": "ipython3",
   "version": "3.8.3"
  }
 },
 "nbformat": 4,
 "nbformat_minor": 4
}
